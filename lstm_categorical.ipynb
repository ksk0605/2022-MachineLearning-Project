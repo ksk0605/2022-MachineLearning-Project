{
 "cells": [
  {
   "cell_type": "code",
   "execution_count": 1,
   "metadata": {},
   "outputs": [],
   "source": [
    "from konlpy.tag import Okt"
   ]
  },
  {
   "cell_type": "code",
   "execution_count": 2,
   "metadata": {},
   "outputs": [
    {
     "name": "stdout",
     "output_type": "stream",
     "text": [
      "Init Plugin\n",
      "Init Graph Optimizer\n",
      "Init Kernel\n"
     ]
    }
   ],
   "source": [
    "import tensorflow as tf\n",
    "import numpy as np\n",
    "import matplotlib.pyplot as plt\n",
    "import pandas as pd"
   ]
  },
  {
   "cell_type": "code",
   "execution_count": 6,
   "metadata": {},
   "outputs": [],
   "source": [
    "df = pd.read_csv('./홍대_맛집_리뷰_데이터_ver3.csv')"
   ]
  },
  {
   "cell_type": "code",
   "execution_count": 8,
   "metadata": {},
   "outputs": [
    {
     "data": {
      "text/html": [
       "<div>\n",
       "<style scoped>\n",
       "    .dataframe tbody tr th:only-of-type {\n",
       "        vertical-align: middle;\n",
       "    }\n",
       "\n",
       "    .dataframe tbody tr th {\n",
       "        vertical-align: top;\n",
       "    }\n",
       "\n",
       "    .dataframe thead th {\n",
       "        text-align: right;\n",
       "    }\n",
       "</style>\n",
       "<table border=\"1\" class=\"dataframe\">\n",
       "  <thead>\n",
       "    <tr style=\"text-align: right;\">\n",
       "      <th></th>\n",
       "      <th>Unnamed: 0</th>\n",
       "      <th>name</th>\n",
       "      <th>average_rating</th>\n",
       "      <th>user</th>\n",
       "      <th>user_rating</th>\n",
       "      <th>comment</th>\n",
       "      <th>url</th>\n",
       "      <th>target</th>\n",
       "    </tr>\n",
       "  </thead>\n",
       "  <tbody>\n",
       "    <tr>\n",
       "      <th>0</th>\n",
       "      <td>0</td>\n",
       "      <td>후계동</td>\n",
       "      <td>4.5</td>\n",
       "      <td>풀내음</td>\n",
       "      <td>5.0</td>\n",
       "      <td>NaN</td>\n",
       "      <td>https://place.map.kakao.com/1183957472</td>\n",
       "      <td>2</td>\n",
       "    </tr>\n",
       "    <tr>\n",
       "      <th>1</th>\n",
       "      <td>1</td>\n",
       "      <td>후계동</td>\n",
       "      <td>4.5</td>\n",
       "      <td>ㅇㅇ</td>\n",
       "      <td>5.0</td>\n",
       "      <td>❤️❤️❤️❤️❤️</td>\n",
       "      <td>https://place.map.kakao.com/1183957472</td>\n",
       "      <td>2</td>\n",
       "    </tr>\n",
       "    <tr>\n",
       "      <th>2</th>\n",
       "      <td>2</td>\n",
       "      <td>후계동</td>\n",
       "      <td>4.5</td>\n",
       "      <td>핑구</td>\n",
       "      <td>5.0</td>\n",
       "      <td>오래 해주세요🙏</td>\n",
       "      <td>https://place.map.kakao.com/1183957472</td>\n",
       "      <td>2</td>\n",
       "    </tr>\n",
       "    <tr>\n",
       "      <th>3</th>\n",
       "      <td>3</td>\n",
       "      <td>후계동</td>\n",
       "      <td>4.5</td>\n",
       "      <td>:ᴅ</td>\n",
       "      <td>3.0</td>\n",
       "      <td>웨이팅해서 먹을 맛은 아니에요… 닭보쌈은 보통이었고 비빔국수라고 해서 당연히 국물 ...</td>\n",
       "      <td>https://place.map.kakao.com/1183957472</td>\n",
       "      <td>1</td>\n",
       "    </tr>\n",
       "    <tr>\n",
       "      <th>4</th>\n",
       "      <td>4</td>\n",
       "      <td>후계동</td>\n",
       "      <td>4.5</td>\n",
       "      <td>Vin</td>\n",
       "      <td>5.0</td>\n",
       "      <td>와 여길 왜 이제알았죠! 너무맛있고 반찬 하나하나 다 맛있네요!! 자주 갈게요!</td>\n",
       "      <td>https://place.map.kakao.com/1183957472</td>\n",
       "      <td>2</td>\n",
       "    </tr>\n",
       "    <tr>\n",
       "      <th>5</th>\n",
       "      <td>5</td>\n",
       "      <td>후계동</td>\n",
       "      <td>4.5</td>\n",
       "      <td>손민영</td>\n",
       "      <td>5.0</td>\n",
       "      <td>오늘의 메뉴 너무 좋아요. 어쩜 갖가지 닭요리를 그렇게 잘하시죠?!! 이런 리뷰 잘...</td>\n",
       "      <td>https://place.map.kakao.com/1183957472</td>\n",
       "      <td>2</td>\n",
       "    </tr>\n",
       "    <tr>\n",
       "      <th>6</th>\n",
       "      <td>6</td>\n",
       "      <td>후계동</td>\n",
       "      <td>4.5</td>\n",
       "      <td>장슐랭가이드</td>\n",
       "      <td>1.0</td>\n",
       "      <td>여기서 밥먹고 둘다 장염걸림;;</td>\n",
       "      <td>https://place.map.kakao.com/1183957472</td>\n",
       "      <td>0</td>\n",
       "    </tr>\n",
       "    <tr>\n",
       "      <th>7</th>\n",
       "      <td>7</td>\n",
       "      <td>후계동</td>\n",
       "      <td>4.5</td>\n",
       "      <td>이우진</td>\n",
       "      <td>5.0</td>\n",
       "      <td>최애 식당진짜 다 맛있고 가격이 엄청 착함오늘의 메뉴라고 매일 새로운 메뉴가 준비되...</td>\n",
       "      <td>https://place.map.kakao.com/1183957472</td>\n",
       "      <td>2</td>\n",
       "    </tr>\n",
       "    <tr>\n",
       "      <th>8</th>\n",
       "      <td>8</td>\n",
       "      <td>후계동</td>\n",
       "      <td>4.5</td>\n",
       "      <td>정찰병</td>\n",
       "      <td>4.0</td>\n",
       "      <td>다음부터 사장님 김치볶음밥하지마세요. ㅠ ㅜ 라면만 하세요!하실꺼면 진짜 딴거말고 ...</td>\n",
       "      <td>https://place.map.kakao.com/1183957472</td>\n",
       "      <td>2</td>\n",
       "    </tr>\n",
       "    <tr>\n",
       "      <th>9</th>\n",
       "      <td>9</td>\n",
       "      <td>후계동</td>\n",
       "      <td>4.5</td>\n",
       "      <td>쿠집사</td>\n",
       "      <td>5.0</td>\n",
       "      <td>이렇게 맛있어도 되나 할 정도로 맛있어요ㅎㅎ</td>\n",
       "      <td>https://place.map.kakao.com/1183957472</td>\n",
       "      <td>2</td>\n",
       "    </tr>\n",
       "  </tbody>\n",
       "</table>\n",
       "</div>"
      ],
      "text/plain": [
       "   Unnamed: 0 name  average_rating    user  user_rating  \\\n",
       "0           0  후계동             4.5     풀내음          5.0   \n",
       "1           1  후계동             4.5      ㅇㅇ          5.0   \n",
       "2           2  후계동             4.5      핑구          5.0   \n",
       "3           3  후계동             4.5      :ᴅ          3.0   \n",
       "4           4  후계동             4.5     Vin          5.0   \n",
       "5           5  후계동             4.5     손민영          5.0   \n",
       "6           6  후계동             4.5  장슐랭가이드          1.0   \n",
       "7           7  후계동             4.5     이우진          5.0   \n",
       "8           8  후계동             4.5     정찰병          4.0   \n",
       "9           9  후계동             4.5     쿠집사          5.0   \n",
       "\n",
       "                                             comment  \\\n",
       "0                                                NaN   \n",
       "1                                         ❤️❤️❤️❤️❤️   \n",
       "2                                           오래 해주세요🙏   \n",
       "3  웨이팅해서 먹을 맛은 아니에요… 닭보쌈은 보통이었고 비빔국수라고 해서 당연히 국물 ...   \n",
       "4       와 여길 왜 이제알았죠! 너무맛있고 반찬 하나하나 다 맛있네요!! 자주 갈게요!   \n",
       "5  오늘의 메뉴 너무 좋아요. 어쩜 갖가지 닭요리를 그렇게 잘하시죠?!! 이런 리뷰 잘...   \n",
       "6                                  여기서 밥먹고 둘다 장염걸림;;   \n",
       "7  최애 식당진짜 다 맛있고 가격이 엄청 착함오늘의 메뉴라고 매일 새로운 메뉴가 준비되...   \n",
       "8  다음부터 사장님 김치볶음밥하지마세요. ㅠ ㅜ 라면만 하세요!하실꺼면 진짜 딴거말고 ...   \n",
       "9                           이렇게 맛있어도 되나 할 정도로 맛있어요ㅎㅎ   \n",
       "\n",
       "                                      url  target  \n",
       "0  https://place.map.kakao.com/1183957472       2  \n",
       "1  https://place.map.kakao.com/1183957472       2  \n",
       "2  https://place.map.kakao.com/1183957472       2  \n",
       "3  https://place.map.kakao.com/1183957472       1  \n",
       "4  https://place.map.kakao.com/1183957472       2  \n",
       "5  https://place.map.kakao.com/1183957472       2  \n",
       "6  https://place.map.kakao.com/1183957472       0  \n",
       "7  https://place.map.kakao.com/1183957472       2  \n",
       "8  https://place.map.kakao.com/1183957472       2  \n",
       "9  https://place.map.kakao.com/1183957472       2  "
      ]
     },
     "execution_count": 8,
     "metadata": {},
     "output_type": "execute_result"
    }
   ],
   "source": [
    "df.head(10)"
   ]
  },
  {
   "cell_type": "code",
   "execution_count": 9,
   "metadata": {},
   "outputs": [
    {
     "data": {
      "text/plain": [
       "<AxesSubplot:>"
      ]
     },
     "execution_count": 9,
     "metadata": {},
     "output_type": "execute_result"
    },
    {
     "data": {
      "image/png": "[encoded data removed]",
      "text/plain": [
       "<Figure size 640x480 with 1 Axes>"
      ]
     },
     "metadata": {},
     "output_type": "display_data"
    }
   ],
   "source": [
    "df['target'].value_counts().plot(kind = 'bar')"
   ]
  },
  {
   "cell_type": "markdown",
   "metadata": {},
   "source": [
    "## 결측치 확인 및 제거"
   ]
  },
  {
   "cell_type": "code",
   "execution_count": null,
   "metadata": {},
   "outputs": [],
   "source": []
  },
  {
   "cell_type": "code",
   "execution_count": null,
   "metadata": {},
   "outputs": [],
   "source": []
  },
  {
   "cell_type": "code",
   "execution_count": null,
   "metadata": {},
   "outputs": [],
   "source": []
  },
  {
   "cell_type": "code",
   "execution_count": null,
   "metadata": {},
   "outputs": [],
   "source": []
  },
  {
   "cell_type": "code",
   "execution_count": null,
   "metadata": {},
   "outputs": [],
   "source": []
  },
  {
   "cell_type": "code",
   "execution_count": null,
   "metadata": {},
   "outputs": [],
   "source": []
  }
 ],
 "metadata": {
  "kernelspec": {
   "display_name": "Python 3.9.15 ('tf')",
   "language": "python",
   "name": "python3"
  },
  "language_info": {
   "codemirror_mode": {
    "name": "ipython",
    "version": 3
   },
   "file_extension": ".py",
   "mimetype": "text/x-python",
   "name": "python",
   "nbconvert_exporter": "python",
   "pygments_lexer": "ipython3",
   "version": "3.9.15"
  },
  "vscode": {
   "interpreter": {
    "hash": "0d66913bb719389121bab79020f7a52c6e05d87274bae621f301af382c19c893"
   }
  }
 },
 "nbformat": 4,
 "nbformat_minor": 4
}
